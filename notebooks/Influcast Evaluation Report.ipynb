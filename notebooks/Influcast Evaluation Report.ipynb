{
 "cells": [
  {
   "cell_type": "code",
   "execution_count": null,
   "id": "cafe6df9",
   "metadata": {},
   "outputs": [],
   "source": [
    "import pandas as pd\n",
    "from datetime import date\n",
    "from IPython.display import display, Markdown\n",
    "import sys, os\n",
    "from report_utils import *\n",
    "\n",
    "# import scores \n",
    "scores_path = os.getenv(\"SCORES_PATH\", \"scores.csv\")\n",
    "print(\"Loading scores from:\", scores_path)\n",
    "scores_rel = pd.read_csv(scores_path)"
   ]
  },
  {
   "cell_type": "code",
   "execution_count": null,
   "id": "b7e58c9b",
   "metadata": {},
   "outputs": [],
   "source": [
    "#jupyter nbconvert \"Influcast Evaluation Report.ipynb\" --to pdf --no-input --output influcast_evaluation_report.pdf"
   ]
  },
  {
   "cell_type": "markdown",
   "id": "42e0c014",
   "metadata": {},
   "source": [
    "Generated on:"
   ]
  },
  {
   "cell_type": "code",
   "execution_count": null,
   "id": "7b706b70",
   "metadata": {},
   "outputs": [],
   "source": [
    "print(date.today().isoformat())"
   ]
  },
  {
   "cell_type": "markdown",
   "id": "24579f26",
   "metadata": {},
   "source": [
    "%%latex\n",
    "\\tableofcontents\n",
    "\\newpage"
   ]
  },
  {
   "cell_type": "markdown",
   "id": "d8eec1ca",
   "metadata": {},
   "source": [
    "# Forecasting target: ILI incidence\n",
    "\n",
    "## Leaderboard - ILI (location = IT)\n",
    "The table below aggregates per-model performance across weeks/horizons for target ```ILI incidence``` and location IT.\n"
   ]
  },
  {
   "cell_type": "code",
   "execution_count": null,
   "id": "0c14196e",
   "metadata": {},
   "outputs": [],
   "source": [
    "print(\"Leaderboard (ILI, IT)\")\n",
    "compute_leaderboard(scores_rel, \"ILI\", \"IT\", groupby_round=True)"
   ]
  },
  {
   "cell_type": "markdown",
   "id": "f92dbef8",
   "metadata": {},
   "source": [
    "%%latex\n",
    "\\newpage\n",
    "\n",
    "## Forecasting Performance by Forecast Week (ILI)\n",
    "\n",
    "The plot below shows the relative WIS and relative MAE by forecast week for all models, highlighting the ensemble model, the baseline model and the average of all other models for target ```ILI incidence```. Values are averaged across all horizons for each forecast week. \n",
    "\n",
    "Values below 1 indicate that the model is outperforming the baseline model, while values above 1 indicate that the model is underperforming. "
   ]
  },
  {
   "cell_type": "code",
   "execution_count": null,
   "id": "906165a0",
   "metadata": {},
   "outputs": [],
   "source": [
    "fig, axes = plt.subplots(2, 1, figsize=(10, 8), dpi=300, sharex=True)\n",
    "\n",
    "# WIS\n",
    "plot_performance_by_forecast_week(scores_rel, \"ILI\", \"IT\", \n",
    "                                  metric=\"rel_wis\", use_log_scale=True, \n",
    "                                  title=\"Relative WIS by Forecast Week (ILI, IT)\", \n",
    "                                  xlabel=\"Forecast Week\", \n",
    "                                  ylabel=\"Relative WIS\", ax=axes[0])\n",
    "\n",
    "# MAE\n",
    "plot_performance_by_forecast_week(scores_rel, \"ILI\", \"IT\", \n",
    "                                  metric=\"rel_ae_median\", use_log_scale=True, \n",
    "                                  title=\"Relative MAE by Forecast Week (ILI, IT)\", \n",
    "                                  xlabel=\"Forecast Week\", \n",
    "                                  ylabel=\"Relative MAE\", ax=axes[1])"
   ]
  },
  {
   "cell_type": "markdown",
   "id": "dd7cfb5c",
   "metadata": {},
   "source": [
    "%%latex\n",
    "\\newpage\n",
    "\n",
    "## Forecasting Performance by Region (ILI)\n",
    "\n",
    "The plot below shows the relative WIS and relative MAE by region for all models for target ```ILI incidence```. Values are averaged across all horizons and forecast weeks for each region. \n",
    "\n",
    "Values below 1 indicate that the model is outperforming the baseline model, while values above 1 indicate that the model is underperforming. "
   ]
  },
  {
   "cell_type": "code",
   "execution_count": null,
   "id": "a9a2180d",
   "metadata": {},
   "outputs": [],
   "source": [
    "fig, axes = plt.subplots(nrows=2, figsize=(10, 8), dpi=300)\n",
    "\n",
    "plot_performance_by_region(scores_rel, \n",
    "                            target_name=\"ILI\", \n",
    "                            metric=\"rel_wis\",\n",
    "                            title=\"Relative WIS by Region (ILI)\", \n",
    "                            ax=axes[0])\n",
    "\n",
    "plot_performance_by_region(scores_rel, \n",
    "                            target_name=\"ILI\", \n",
    "                            metric=\"rel_ae_median\",\n",
    "                            title=\"Relative MAE by Region (ILI)\", \n",
    "                            ax=axes[1])\n",
    "\n",
    "plt.tight_layout()"
   ]
  },
  {
   "cell_type": "markdown",
   "id": "8c395d48",
   "metadata": {},
   "source": [
    "%%latex\n",
    "\\newpage\n",
    "\n",
    "# Forecasting target: ILI+/A incidence\n",
    "\n",
    "## Leaderboard - ILI+/A (location = IT)\n",
    "The tables below aggregate per-model performance across weeks/horizons for target ```ILI+/A incidence``` for location IT.\n"
   ]
  },
  {
   "cell_type": "code",
   "execution_count": null,
   "id": "fe562aeb",
   "metadata": {},
   "outputs": [],
   "source": [
    "print(\"Leaderboard (ILI+/A, IT)\")\n",
    "compute_leaderboard(scores_rel, \"ILI+_FLU_A\", \"IT\", groupby_round=True)"
   ]
  },
  {
   "cell_type": "markdown",
   "id": "2fd39ab3",
   "metadata": {},
   "source": [
    "%%latex\n",
    "\\newpage\n",
    "\n",
    "## Forecasting Performance by Forecast Week (ILI+/A)\n",
    "\n",
    "The plot below shows the relative WIS and relative MAE by forecast week for all models, highlighting the ensemble model, the baseline model and the average of all other models for target ```ILI+/A incidence```. Values are averaged across all horizons for each forecast week. \n",
    "\n",
    "Values below 1 indicate that the model is outperforming the baseline model, while values above 1 indicate that the model is underperforming. "
   ]
  },
  {
   "cell_type": "code",
   "execution_count": null,
   "id": "355c462a",
   "metadata": {},
   "outputs": [],
   "source": [
    "fig, axes = plt.subplots(2, 1, figsize=(10, 8), dpi=300, sharex=True)\n",
    "\n",
    "# WIS\n",
    "plot_performance_by_forecast_week(scores_rel, \"ILI+_FLU_A\", \"IT\", \n",
    "                                  metric=\"rel_wis\", use_log_scale=True, \n",
    "                                  title=\"Relative WIS by Forecast Week (ILI+/A, IT)\", \n",
    "                                  xlabel=\"Forecast Week\", \n",
    "                                  ylabel=\"Relative WIS\", ax=axes[0])\n",
    "\n",
    "# MAE\n",
    "plot_performance_by_forecast_week(scores_rel, \"ILI+_FLU_A\", \"IT\", \n",
    "                                  metric=\"rel_ae_median\", use_log_scale=True, \n",
    "                                  title=\"Relative MAE by Forecast Week (ILI+/A, IT)\", \n",
    "                                  xlabel=\"Forecast Week\", \n",
    "                                  ylabel=\"Relative MAE\", ax=axes[1])"
   ]
  },
  {
   "cell_type": "markdown",
   "id": "77574ab9",
   "metadata": {},
   "source": [
    "%%latex\n",
    "\\newpage\n",
    "\n",
    "# Forecasting target: ILI+/B incidence\n",
    "\n",
    "## Leaderboard - ILI+/B (location = IT)\n",
    "The tables below aggregate per-model performance across weeks/horizons for target ```ILI+/B incidence``` for location IT."
   ]
  },
  {
   "cell_type": "code",
   "execution_count": null,
   "id": "0b50fcad",
   "metadata": {},
   "outputs": [],
   "source": [
    "print(\"Leaderboard (ILI+/B, IT)\")\n",
    "compute_leaderboard(scores_rel, \"ILI+_FLU_B\", \"IT\", groupby_round=True)"
   ]
  },
  {
   "cell_type": "markdown",
   "id": "b6477b26",
   "metadata": {},
   "source": [
    "%%latex\n",
    "\\newpage\n",
    "\n",
    "## Forecasting Performance by Forecast Week (ILI+/B)\n",
    "\n",
    "The plot below shows the relative WIS and relative MAE by forecast week for all models, highlighting the ensemble model, the baseline model and the average of all other models for target ```ILI+/B incidence```. Values are averaged across all horizons for each forecast week. \n",
    "\n",
    "Values below 1 indicate that the model is outperforming the baseline model, while values above 1 indicate that the model is underperforming. "
   ]
  },
  {
   "cell_type": "code",
   "execution_count": null,
   "id": "64ce0aa5",
   "metadata": {},
   "outputs": [],
   "source": [
    "fig, axes = plt.subplots(2, 1, figsize=(10, 8), dpi=300, sharex=True)\n",
    "\n",
    "# WIS\n",
    "plot_performance_by_forecast_week(scores_rel, \"ILI+_FLU_B\", \"IT\", \n",
    "                                  metric=\"rel_wis\", use_log_scale=True, \n",
    "                                  title=\"Relative WIS by Forecast Week (ILI+/B, IT)\", \n",
    "                                  xlabel=\"Forecast Week\", \n",
    "                                  ylabel=\"Relative WIS\", ax=axes[0])\n",
    "\n",
    "# MAE\n",
    "plot_performance_by_forecast_week(scores_rel, \"ILI+_FLU_B\", \"IT\", \n",
    "                                  metric=\"rel_ae_median\", use_log_scale=True, \n",
    "                                  title=\"Relative MAE by Forecast Week (ILI+/B, IT)\", \n",
    "                                  xlabel=\"Forecast Week\", \n",
    "                                  ylabel=\"Relative MAE\", ax=axes[1])"
   ]
  },
  {
   "cell_type": "markdown",
   "id": "cd2415a6",
   "metadata": {},
   "source": [
    "# Model Specific Plots"
   ]
  },
  {
   "cell_type": "code",
   "execution_count": null,
   "id": "9398e314",
   "metadata": {},
   "outputs": [],
   "source": [
    "models = [m for m in scores_rel.model.unique() if m not in [\"Influcast-quantileBaseline\", \"Influcast-Ensemble\"]]\n",
    "\n",
    "# average for each round\n",
    "scores_aggr = scores_rel.groupby([\"model\", \n",
    "                                  \"location\", \n",
    "                                  \"forecast_week\", \n",
    "                                  \"target\"], as_index=False).mean(numeric_only=True)\n",
    "\n",
    "# sum for each model, location, target\n",
    "scores_aggr = scores_aggr.groupby([\"model\", \n",
    "                                  \"location\", \n",
    "                                  \"target\"], as_index=False).agg({\n",
    "                                            \"overprediction\": \"sum\",\n",
    "                                            \"underprediction\": \"sum\",\n",
    "                                            \"dispersion\": \"sum\"})\n",
    "\n",
    "styles = {\"Influcast-quantileBaseline\": {\"color\": \"coral\", \"alpha\": 1.0, \"linestyle\": \"--\", \"label\": \"Baseline\"},\n",
    "          \"Influcast-Ensemble\": {\"color\": \"#028A0F\", \"alpha\": 0.5, \"linestyle\": \"solid\", \"label\": \"Ensemble\"}, \n",
    "          \"Other Models Average\": {\"color\": \"k\", \"alpha\": 0.5, \"linestyle\": \"dotted\", \"label\": \"Other Models Average\"}, \n",
    "          }"
   ]
  },
  {
   "cell_type": "code",
   "execution_count": null,
   "id": "f5cc8b17",
   "metadata": {},
   "outputs": [],
   "source": [
    "for model in models:\n",
    "    display(Markdown(f\"## {model}\"))\n",
    "\n",
    "    model_targets = scores_aggr.loc[scores_aggr.model == model].target.unique()\n",
    "\n",
    "    for target in ['ILI', 'ILI+_FLU_A', 'ILI+_FLU_B']:\n",
    "        if target in model_targets:\n",
    "            display(Markdown(f\"### {model}: {target}\"))\n",
    "\n",
    "            styles_model = styles.copy()\n",
    "            styles_model[model] = {\"color\": \"dodgerblue\", \"alpha\": 1., \"linestyle\": \"solid\", \"label\": model}\n",
    "\n",
    "            fig, axes = plt.subplot_mosaic([[\"A\", \"A\", \"B\"], [\"C\", \"C\", \"B\"]], dpi=300, figsize=(10, 8))\n",
    "\n",
    "            # Rel MAE in time \n",
    "            plot_performance_by_forecast_week(scores_rel, target, \"IT\", \n",
    "                                            metric=\"rel_ae_median\", use_log_scale=True, \n",
    "                                            title=f\"Relative MAE by Forecast Week ({target}, IT)\", \n",
    "                                            xlabel=\"Forecast Week\", \n",
    "                                            ylabel=\"Relative MAE\", ax=axes[\"C\"], styles=styles_model)\n",
    "\n",
    "            # Rel WIS in time \n",
    "            axes[\"A\"].sharex(axes[\"C\"])\n",
    "            axes[\"A\"].label_outer()\n",
    "            plot_performance_by_forecast_week(scores_rel, target, \"IT\", \n",
    "                                            metric=\"rel_wis\", use_log_scale=True, \n",
    "                                            title=f\"Relative WIS by Forecast Week ({target}, IT)\", \n",
    "                                            xlabel=\"Forecast Week\", \n",
    "                                            ylabel=\"Relative WIS\", ax=axes[\"A\"], styles=styles_model)\n",
    "\n",
    "            # WIS components\n",
    "            plot_wis_components(scores_aggr, model, location=\"IT\", target=target, ax=axes[\"B\"])\n",
    "            plt.tight_layout()  \n",
    "            plt.show()"
   ]
  },
  {
   "cell_type": "code",
   "execution_count": null,
   "id": "938dc4c6",
   "metadata": {},
   "outputs": [],
   "source": []
  }
 ],
 "metadata": {
  "kernelspec": {
   "display_name": "base",
   "language": "python",
   "name": "python3"
  },
  "language_info": {
   "codemirror_mode": {
    "name": "ipython",
    "version": 3
   },
   "file_extension": ".py",
   "mimetype": "text/x-python",
   "name": "python",
   "nbconvert_exporter": "python",
   "pygments_lexer": "ipython3",
   "version": "3.8.8"
  }
 },
 "nbformat": 4,
 "nbformat_minor": 5
}
